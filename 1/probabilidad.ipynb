{
 "cells": [
  {
   "cell_type": "code",
   "execution_count": null,
   "metadata": {},
   "outputs": [],
   "source": []
  }
 ],
 "metadata": {
  "kernelspec": {
   "display_name": "Python 3.10.5 ('venv': venv)",
   "language": "python",
   "name": "python3"
  },
  "language_info": {
   "name": "python",
   "version": "3.10.5"
  },
  "orig_nbformat": 4,
  "vscode": {
   "interpreter": {
    "hash": "b26b63031eddbc2d7a34ccd6204b2c9e9bf7d8f4d66fa8ce636fc16026769adc"
   }
  }
 },
 "nbformat": 4,
 "nbformat_minor": 2
}
